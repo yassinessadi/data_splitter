{
 "cells": [
  {
   "cell_type": "code",
   "execution_count": 200,
   "metadata": {},
   "outputs": [],
   "source": [
    "import pandas as pd\n",
    "import json\n",
    "import pyodbc as Context"
   ]
  },
  {
   "cell_type": "code",
   "execution_count": 3,
   "metadata": {},
   "outputs": [],
   "source": [
    "Path_File = \"C:\\csv-data-collect/github-2023_06_31_contributors_top_20_stars.csv\""
   ]
  },
  {
   "cell_type": "code",
   "execution_count": 197,
   "metadata": {},
   "outputs": [],
   "source": [
    "def dataSpliter(Path, JSON_Percentage , SQL_Percentage ):\n",
    "    # vars\n",
    "    #CSV_Percentage = 0\n",
    "    # read the csv \n",
    "    df = pd.read_csv(Path)\n",
    "    Toatal_Percentage = JSON_Percentage + SQL_Percentage\n",
    "\n",
    "    if ( Toatal_Percentage == 0):\n",
    "        return df\n",
    "    if (Toatal_Percentage <= 100):\n",
    "\n",
    "        #CSV_Percentage  = (JSON_Percentage - SQL_Percentage) if (JSON_Percentage > SQL_Percentage)  else (SQL_Percentage - JSON_Percentage)\n",
    "        df = df.sample(frac=1,random_state= 1).reset_index()\n",
    "\n",
    "        Size_0_JSON = round((len(df) * JSON_Percentage) / 100)\n",
    "\n",
    "        Size_0_SQL = round((len(df) * SQL_Percentage) / 100)\n",
    "\n",
    "        #Size_0_CSV = len(df) - (Size_0_JSON + Size_0_SQL)\n",
    "\n",
    "        df_JSON = df[:Size_0_JSON]\n",
    "\n",
    "        df_SQL = df[Size_0_JSON : Size_0_JSON + Size_0_SQL]\n",
    "\n",
    "        df_CSV = df[Size_0_JSON + Size_0_SQL : ]\n",
    "\n",
    "        #print(Size_0_JSON,Size_0_SQL,Size_0_CSV)\n",
    "        return df_JSON , df_SQL, df_CSV\n",
    "    else:\n",
    "        raise Exception(\"The Percentage should be Equal or less then 100\")"
   ]
  },
  {
   "cell_type": "code",
   "execution_count": 199,
   "metadata": {},
   "outputs": [],
   "source": [
    "try:\n",
    "    df_JSON, df_SQL, df_CSV = dataSpliter(Path_File, 2, 1)\n",
    "    df_JSON.to_json(path_or_buf='C:/Users/Youcode/desktop/data_Splitter/export.json',orient='records')\n",
    "except Exception as e:\n",
    "    print(e.args[0])"
   ]
  },
  {
   "cell_type": "code",
   "execution_count": 231,
   "metadata": {},
   "outputs": [
    {
     "name": "stdout",
     "output_type": "stream",
     "text": [
      "Microsoft SQL Server 2022 (RTM) - 16.0.1000.6 (X64) \n",
      "\tOct  8 2022 05:58:25 \n",
      "\tCopyright (C) 2022 Microsoft Corporation\n",
      "\tExpress Edition (64-bit) on Windows 10 Pro 10.0 <X64> (Build 22621: ) (Hypervisor)\n",
      "\n"
     ]
    }
   ],
   "source": [
    "# Insert Into Sql database\n",
    "server = 'LAPTOP-VQCV01FE\\SQLEXPRESS' \n",
    "database = 'data_splitter' \n",
    "username = '' \n",
    "password = '' \n",
    "Connection = Context.connect('DRIVER={SQL Server};SERVER='+server+';DATABASE='+database+';UID='+username+';PWD='+ password,autocommit=True)\n",
    "cursor = Connection.cursor()\n",
    "\n",
    "cursor.execute(\"SELECT @@version;\") \n",
    "row = cursor.fetchone() \n",
    "while row: \n",
    "    print(row[0])\n",
    "    row = cursor.fetchone()"
   ]
  },
  {
   "cell_type": "code",
   "execution_count": 230,
   "metadata": {},
   "outputs": [],
   "source": [
    "for row in df_SQL.itertuples():\n",
    "    cursor.execute(\n",
    "        f'''\n",
    "            INSERT INTO Commits\n",
    "            VALUES (?,?,?)\n",
    "        ''',\n",
    "        row.full_name,\n",
    "        row.contributor,\n",
    "        row.commit\n",
    "    )"
   ]
  }
 ],
 "metadata": {
  "kernelspec": {
   "display_name": "Python 3",
   "language": "python",
   "name": "python3"
  },
  "language_info": {
   "codemirror_mode": {
    "name": "ipython",
    "version": 3
   },
   "file_extension": ".py",
   "mimetype": "text/x-python",
   "name": "python",
   "nbconvert_exporter": "python",
   "pygments_lexer": "ipython3",
   "version": "3.11.3"
  },
  "orig_nbformat": 4
 },
 "nbformat": 4,
 "nbformat_minor": 2
}
